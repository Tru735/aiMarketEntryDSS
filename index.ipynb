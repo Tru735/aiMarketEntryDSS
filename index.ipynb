{
 "cells": [
  {
   "cell_type": "markdown",
   "id": "35fec32f",
   "metadata": {},
   "source": [
    "# AI-Powered Market Entry Decision Support System"
   ]
  },
  {
   "cell_type": "code",
   "execution_count": null,
   "id": "7479d804",
   "metadata": {},
   "outputs": [],
   "source": []
  }
 ],
 "metadata": {
  "kernelspec": {
   "display_name": "machineLearning",
   "language": "python",
   "name": "python3"
  },
  "language_info": {
   "codemirror_mode": {
    "name": "ipython",
    "version": 3
   },
   "file_extension": ".py",
   "mimetype": "text/x-python",
   "name": "python",
   "nbconvert_exporter": "python",
   "pygments_lexer": "ipython3",
   "version": "3.12.9"
  }
 },
 "nbformat": 4,
 "nbformat_minor": 5
}
